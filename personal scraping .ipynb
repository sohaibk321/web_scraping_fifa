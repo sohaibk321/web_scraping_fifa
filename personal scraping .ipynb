{
 "cells": [
  {
   "cell_type": "code",
   "execution_count": 1,
   "metadata": {},
   "outputs": [
    {
     "name": "stdout",
     "output_type": "stream",
     "text": [
      "Finished\n"
     ]
    }
   ],
   "source": [
    "import scrapy\n",
    "from scrapy.crawler import CrawlerProcess\n",
    "\n",
    "class FifaSpider(scrapy.Spider):\n",
    "    name = 'FIFAS'\n",
    "    \n",
    "    start_urls = ['https://www.futhead.com/players/?sort=-if_total']\n",
    "    \n",
    "    def parse(self, response):\n",
    "        for row in response.xpath('//li/div/a'):\n",
    "            yield {\n",
    "                'name': row.xpath('span[@class=\"player-info\"]/span[@class=\"player-name\"]/text()').extract(),\n",
    "                'rating': row.xpath('span[1]/span/text()').extract(),\n",
    "                'pace': row.xpath('span[3]/span[2]/span[@class=\"value\"]/text()').extract(),\n",
    "                'shooting': row.xpath('span[3]/span[3]/span[@class=\"value\"]/text()').extract(),\n",
    "                'passing': row.xpath('span[3]/span[4]/span[@class=\"value\"]/text()').extract(),\n",
    "                'dribbling': row.xpath('span[3]/span[5]/span[@class=\"value\"]/text()').extract(),\n",
    "                'defense': row.xpath('span[3]/span[6]/span[@class=\"value\"]/text()').extract(),\n",
    "                'physical': row.xpath('span[3]/span[7]/span[@class=\"value\"]/text()').extract()\n",
    "            }\n",
    "        #link for the next page\n",
    "        next_page = response.xpath('//div[@class=\"pagination pull-right\"]/a[3]/@href').extract_first()\n",
    "        #print(response.xpath('//div[@class=\"pagination pull-right\"]/a[3]/@href').extract_first())\n",
    "        # a counter for the pagenumbers and acts as a stopping condition\n",
    "        pagenum = int(re.findall(r'\\d+', next_page)[0])\n",
    "        \n",
    "        #scrape the first 10 pages\n",
    "        if next_page is not None and pagenum <11:\n",
    "            next_page = response.urljoin(next_page)\n",
    "            \n",
    "            yield scrapy.Request(next_page, callback=self.parse)\n",
    "            \n",
    "process = CrawlerProcess({\n",
    "    'FEED_FORMAT': 'json',         # Store data in JSON format.\n",
    "    'FEED_URI': 'fifa_data.json',  # Name our storage file.\n",
    "    'LOG_ENABLED': False,          # Turn off logging for now.\n",
    "    'ROBOTSTXT_OBEY': True,\n",
    "    'USER_AGENT': 'Mozilla/5.0 (Windows NT 10.0; Win64; x64) AppleWebKit/537.36 (KHTML, like Gecko) Chrome/72.0.3626.96 Safari/537.36',\n",
    "    'AUTOTHROTTLE_ENABLED': True,\n",
    "    'HTTPCACHE_ENABLED': True\n",
    "})\n",
    "\n",
    "process.crawl(FifaSpider)\n",
    "process.start()\n",
    "print('Finished')"
   ]
  },
  {
   "cell_type": "code",
   "execution_count": 2,
   "metadata": {},
   "outputs": [
    {
     "name": "stdout",
     "output_type": "stream",
     "text": [
      "(51, 8)\n",
      "  defense dribbling                 name  pace passing physical rating  \\\n",
      "0    [42]      [98]       [Lionel Messi]  [95]    [90]     [70]   [96]   \n",
      "1    [46]      [95]  [Cristiano Ronaldo]  [95]    [86]     [87]   [96]   \n",
      "2    [55]      [92]        [Luis Suárez]  [85]    [83]     [83]   [92]   \n",
      "3    [37]      [86]    [Gonzalo Higuaín]  [83]    [74]     [79]   [89]   \n",
      "4    [38]      [96]          [Neymar Jr]  [94]    [83]     [65]   [92]   \n",
      "\n",
      "  shooting  \n",
      "0     [94]  \n",
      "1     [96]  \n",
      "2     [92]  \n",
      "3     [90]  \n",
      "4     [88]  \n"
     ]
    }
   ],
   "source": [
    "import pandas as pd\n",
    "\n",
    "# Checking whether we got data from all 10 pages\n",
    "FIFASdf=pd.read_json('fifa_data.json', orient='records')\n",
    "print(FIFASdf.shape)\n",
    "print(FIFASdf.head())"
   ]
  },
  {
   "cell_type": "code",
   "execution_count": null,
   "metadata": {},
   "outputs": [],
   "source": []
  }
 ],
 "metadata": {
  "kernelspec": {
   "display_name": "Python 3",
   "language": "python",
   "name": "python3"
  },
  "language_info": {
   "codemirror_mode": {
    "name": "ipython",
    "version": 3
   },
   "file_extension": ".py",
   "mimetype": "text/x-python",
   "name": "python",
   "nbconvert_exporter": "python",
   "pygments_lexer": "ipython3",
   "version": "3.7.1"
  }
 },
 "nbformat": 4,
 "nbformat_minor": 2
}
